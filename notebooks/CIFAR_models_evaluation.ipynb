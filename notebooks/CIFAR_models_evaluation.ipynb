{
 "cells": [
  {
   "cell_type": "markdown",
   "id": "8b974adf",
   "metadata": {},
   "source": [
    "# CIFAR models evaluation"
   ]
  },
  {
   "cell_type": "code",
   "execution_count": null,
   "id": "9fa1eaa3",
   "metadata": {},
   "outputs": [],
   "source": [
    "import tensorflow as tf\n",
    "import tensorflow_datasets as tfds\n",
    "\n",
    "import numpy as np\n",
    "from sklearn.metrics import classification_report\n",
    "from sklearn.metrics import roc_auc_score, roc_curve\n",
    "\n",
    "import matplotlib.pyplot as plt\n",
    "import seaborn as sns\n",
    "\n",
    "import pandas as pd"
   ]
  },
  {
   "cell_type": "markdown",
   "id": "c87d76df",
   "metadata": {},
   "source": [
    "## Load CIFAR dataset"
   ]
  },
  {
   "cell_type": "code",
   "execution_count": null,
   "id": "09a04b20",
   "metadata": {},
   "outputs": [],
   "source": [
    "builder, ds_info = tfds.load('cifar10',\n",
    "                             split=[\"train\", \"test[:40%]\", \"test[40%:]\"],\n",
    "                             as_supervised=True, \n",
    "                             with_info=True)"
   ]
  },
  {
   "cell_type": "code",
   "execution_count": null,
   "id": "ff98e15b",
   "metadata": {},
   "outputs": [],
   "source": [
    "ds_train = builder[0]\n",
    "ds_validation = builder[1]\n",
    "ds_test = builder[2]\n",
    "\n",
    "print('train size: ' + str(len(ds_train)))\n",
    "print('validation size: ' + str(len(ds_validation)))\n",
    "print('test size: ' + str(len(ds_test)))"
   ]
  },
  {
   "cell_type": "markdown",
   "id": "f5513824",
   "metadata": {},
   "source": [
    "## Load models"
   ]
  },
  {
   "cell_type": "code",
   "execution_count": null,
   "id": "dce009b3",
   "metadata": {},
   "outputs": [],
   "source": [
    "from models import CIFAR_Detectition_Pre_trained_Model\n",
    "\n",
    "pre_trained_model = CIFAR_Detectition_Pre_trained_Model('models/cifar_xception/', (96, 96))\n",
    "cnn_model = CIFAR_Detectition_Pre_trained_Model('models/cifar_cnn_augmentation/', (32, 32))"
   ]
  },
  {
   "cell_type": "markdown",
   "id": "9c10848d",
   "metadata": {},
   "source": [
    "**Compute predictions**"
   ]
  },
  {
   "cell_type": "code",
   "execution_count": null,
   "id": "091daead",
   "metadata": {},
   "outputs": [],
   "source": [
    "y_pred_pre_trained, y_test_pre_trained, y_pred_classes_pre_trained = pre_trained_model.compute_predictions(ds_test)\n",
    "y_pred_cnn, y_test_cnn, y_pred_classes_cnn = cnn_model.compute_predictions(ds_test)"
   ]
  },
  {
   "cell_type": "markdown",
   "id": "d66cca3f",
   "metadata": {},
   "source": [
    "### Compute confusion matrix"
   ]
  },
  {
   "cell_type": "code",
   "execution_count": null,
   "id": "3f038e93",
   "metadata": {},
   "outputs": [],
   "source": [
    "class_names = ['airplane', 'automobile', 'bird', 'cat', 'deer',\n",
    "               'dog', 'frog', 'horse', 'ship', 'truck']"
   ]
  },
  {
   "cell_type": "code",
   "execution_count": null,
   "id": "11f36e93",
   "metadata": {},
   "outputs": [],
   "source": [
    "confusion_mtx_pre_trained = tf.math.confusion_matrix(y_test_pre_trained, y_pred_classes_pre_trained)\n",
    "confusion_mtx_cnn = tf.math.confusion_matrix(y_test_cnn, y_pred_classes_cnn)"
   ]
  },
  {
   "cell_type": "code",
   "execution_count": null,
   "id": "664800e9",
   "metadata": {},
   "outputs": [],
   "source": [
    "fig, axs = plt.subplots(2, 1, figsize=(15, 15), sharex=True, sharey=True)\n",
    "c_pre_trained = sns.heatmap(confusion_mtx_pre_trained, annot=True, fmt='g', ax=axs[0])\n",
    "c_pre_trained.set(xticklabels=class_names, yticklabels=class_names)\n",
    "c_pre_trained.set_title('Confusion matrix - Pre-trained model')\n",
    "\n",
    "c_cnn = sns.heatmap(confusion_mtx_cnn, annot=True, fmt='g', ax=axs[1])\n",
    "c_cnn.set(xticklabels=class_names, yticklabels=class_names)\n",
    "c_cnn.set_title('Confusion matrix - CNN model')"
   ]
  },
  {
   "cell_type": "markdown",
   "id": "3c1d60c6",
   "metadata": {},
   "source": [
    "### Make a report"
   ]
  },
  {
   "cell_type": "markdown",
   "id": "e4a13636",
   "metadata": {},
   "source": [
    "**Pre-trained report**"
   ]
  },
  {
   "cell_type": "code",
   "execution_count": null,
   "id": "90dfa9f5",
   "metadata": {},
   "outputs": [],
   "source": [
    "report = classification_report(y_test_pre_trained, y_pred_classes_pre_trained, target_names=class_names, output_dict=True)\n",
    "df_pretrained = pd.DataFrame(report).transpose()\n",
    "df_pretrained"
   ]
  },
  {
   "cell_type": "markdown",
   "id": "9bb2f9b3",
   "metadata": {},
   "source": [
    "**CNN model**"
   ]
  },
  {
   "cell_type": "code",
   "execution_count": null,
   "id": "d94f951f",
   "metadata": {},
   "outputs": [],
   "source": [
    "report = classification_report(y_test_cnn, y_pred_classes_cnn, target_names=class_names, output_dict=True)\n",
    "df_cnn = pd.DataFrame(report).transpose()\n",
    "df_cnn"
   ]
  },
  {
   "cell_type": "markdown",
   "id": "0a22446c",
   "metadata": {},
   "source": [
    "### Comparatie ROC-AUC Curve for each class"
   ]
  },
  {
   "cell_type": "code",
   "execution_count": null,
   "id": "74c682b2",
   "metadata": {},
   "outputs": [],
   "source": [
    "def plot_ax(y_pred_pre_trained, y_test_pre_trained, y_pred_cnn, y_test_cnn, ax, i, label):\n",
    "\n",
    "    fpr_pre_trained, tpr_pre_trained, thresh_pretrained = roc_curve(y_test_pre_trained, y_pred_pre_trained[:,i], pos_label=i)\n",
    "    fpr_cnn, tpr_cnn, thresh_cnn = roc_curve(y_test_cnn, y_pred_cnn[:,i], pos_label=i)\n",
    "    \n",
    "    ax.plot(fpr_pre_trained, tpr_pre_trained, linestyle='--',color='orange', label='Pre-trained model')\n",
    "    ax.plot(fpr_cnn, tpr_cnn, linestyle='--',color='green', label='CNN model')\n",
    "    ax.set_title(label)\n",
    "    ax.legend(loc='best')\n",
    "    \n"
   ]
  },
  {
   "cell_type": "code",
   "execution_count": null,
   "id": "b9c070c4",
   "metadata": {},
   "outputs": [],
   "source": [
    "fig, axs = plt.subplots(5, 2, figsize=(15, 15), sharex=True, sharey=True)\n",
    "\n",
    "i = 0\n",
    "for label in class_names:  \n",
    "    \n",
    "    plot_ax(y_pred_pre_trained, y_test_pre_trained, y_pred_cnn, y_test_cnn, axs[int(i/2), i%2], i, label)\n",
    "    i += 1\n",
    "\n",
    "fig.suptitle('AUC- ROC Curve One vs All')\n",
    "\n",
    "# Set common labels\n",
    "fig.add_subplot(111, frameon=False)\n",
    "plt.tick_params(labelcolor='none', which='both', top=False, bottom=False, left=False, right=False)\n",
    "plt.xlabel('False Positive Rate')\n",
    "plt.ylabel('True Positive rate')\n",
    "\n",
    "\n",
    "plt.tight_layout()\n",
    "plt.show()"
   ]
  },
  {
   "cell_type": "markdown",
   "id": "029ef892",
   "metadata": {},
   "source": [
    "## Cohen Kappa score"
   ]
  },
  {
   "cell_type": "code",
   "execution_count": null,
   "id": "58818af3",
   "metadata": {},
   "outputs": [],
   "source": [
    "from sklearn.metrics import cohen_kappa_score\n",
    "\n",
    "cohen_kappa_score(y_test_pre_trained, y_pred_classes_pre_trained)"
   ]
  },
  {
   "cell_type": "code",
   "execution_count": null,
   "id": "b1bea0b9",
   "metadata": {},
   "outputs": [],
   "source": [
    "cohen_kappa_score(y_test_cnn, y_pred_classes_cnn)"
   ]
  }
 ],
 "metadata": {
  "kernelspec": {
   "display_name": "Python 3",
   "language": "python",
   "name": "python3"
  },
  "language_info": {
   "codemirror_mode": {
    "name": "ipython",
    "version": 3
   },
   "file_extension": ".py",
   "mimetype": "text/x-python",
   "name": "python",
   "nbconvert_exporter": "python",
   "pygments_lexer": "ipython3",
   "version": "3.9.2"
  }
 },
 "nbformat": 4,
 "nbformat_minor": 5
}
