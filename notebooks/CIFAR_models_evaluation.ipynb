{
 "cells": [
  {
   "cell_type": "markdown",
   "id": "8b974adf",
   "metadata": {},
   "source": [
    "# CIFAR models evaluation"
   ]
  },
  {
   "cell_type": "code",
   "execution_count": null,
   "id": "9fa1eaa3",
   "metadata": {},
   "outputs": [],
   "source": [
    "import tensorflow as tf\n",
    "import tensorflow_datasets as tfds\n",
    "\n",
    "import numpy as np\n",
    "from sklearn.metrics import classification_report\n",
    "from sklearn.metrics import roc_auc_score, roc_curve\n",
    "\n",
    "import matplotlib.pyplot as plt\n",
    "import seaborn as sns\n",
    "\n",
    "import pandas as pd"
   ]
  },
  {
   "cell_type": "markdown",
   "id": "c87d76df",
   "metadata": {},
   "source": [
    "## Load CIFAR dataset"
   ]
  },
  {
   "cell_type": "code",
   "execution_count": null,
   "id": "09a04b20",
   "metadata": {},
   "outputs": [],
   "source": [
    "builder, ds_info = tfds.load('cifar10',\n",
    "                             split=[\"train\", \"test[:40%]\", \"test[40%:]\"],\n",
    "                             as_supervised=True, \n",
    "                             with_info=True)"
   ]
  },
  {
   "cell_type": "code",
   "execution_count": null,
   "id": "ff98e15b",
   "metadata": {},
   "outputs": [],
   "source": [
    "ds_train = builder[0]\n",
    "ds_validation = builder[1]\n",
    "ds_test = builder[2]\n",
    "\n",
    "print('train size: ' + str(len(ds_train)))\n",
    "print('validation size: ' + str(len(ds_validation)))\n",
    "print('test size: ' + str(len(ds_test)))"
   ]
  },
  {
   "cell_type": "markdown",
   "id": "f5513824",
   "metadata": {},
   "source": [
    "## Load models"
   ]
  },
  {
   "cell_type": "code",
   "execution_count": null,
   "id": "dce009b3",
   "metadata": {},
   "outputs": [],
   "source": [
    "from models import CIFAR_Detectition_Pre_trained_Model\n",
    "\n",
    "xception_model = CIFAR_Detectition_Pre_trained_Model('models/cifar_xception/', (96, 96))\n",
    "xception_fine_model = CIFAR_Detectition_Pre_trained_Model('models/cifar_xception_fine/', (96, 96))\n",
    "cnn_model = CIFAR_Detectition_Pre_trained_Model('models/cifar_cnn/', (32, 32))"
   ]
  },
  {
   "cell_type": "markdown",
   "id": "9c10848d",
   "metadata": {},
   "source": [
    "**Compute predictions**"
   ]
  },
  {
   "cell_type": "code",
   "execution_count": null,
   "id": "091daead",
   "metadata": {},
   "outputs": [],
   "source": [
    "y_pred_xception, y_test_xception, y_pred_classes_xception = xception_model.compute_predictions(ds_test)\n",
    "y_pred_xception_fine, y_test_xception_fine, y_pred_classes_xception_fine = xception_fine_model.compute_predictions(ds_test)\n",
    "y_pred_cnn, y_test_cnn, y_pred_classes_cnn = cnn_model.compute_predictions(ds_test)"
   ]
  },
  {
   "cell_type": "markdown",
   "id": "d66cca3f",
   "metadata": {},
   "source": [
    "### Compute confusion matrix"
   ]
  },
  {
   "cell_type": "code",
   "execution_count": null,
   "id": "3f038e93",
   "metadata": {},
   "outputs": [],
   "source": [
    "class_names = ['airplane', 'automobile', 'bird', 'cat', 'deer',\n",
    "               'dog', 'frog', 'horse', 'ship', 'truck']"
   ]
  },
  {
   "cell_type": "code",
   "execution_count": null,
   "id": "11f36e93",
   "metadata": {},
   "outputs": [],
   "source": [
    "confusion_mtx_xception = tf.math.confusion_matrix(y_test_xception, y_pred_classes_xception)\n",
    "confusion_mtx_xception_fine = tf.math.confusion_matrix(y_test_xception_fine, y_pred_classes_xception_fine)\n",
    "confusion_mtx_cnn = tf.math.confusion_matrix(y_test_cnn, y_pred_classes_cnn)"
   ]
  },
  {
   "cell_type": "code",
   "execution_count": null,
   "id": "664800e9",
   "metadata": {},
   "outputs": [],
   "source": [
    "fig, axs = plt.subplots(3, 1, figsize=(15, 15), sharex=True, sharey=True)\n",
    "\n",
    "c_cnn = sns.heatmap(confusion_mtx_cnn, annot=True, fmt='g', ax=axs[0])\n",
    "c_cnn.set(xticklabels=class_names, yticklabels=class_names)\n",
    "c_cnn.set_yticklabels(class_names, rotation = 45)\n",
    "c_cnn.set_title('Confusion matrix - CNN model')\n",
    "\n",
    "c_xception = sns.heatmap(confusion_mtx_xception, annot=True, fmt='g', ax=axs[1])\n",
    "c_xception.set(xticklabels=class_names, yticklabels=class_names)\n",
    "c_xception.set_yticklabels(class_names, rotation = 45)\n",
    "c_xception.set_title('Confusion matrix - Xception model (without fine-tuning)')\n",
    "\n",
    "c_xception_fine = sns.heatmap(confusion_mtx_xception_fine, annot=True, fmt='g', ax=axs[2])\n",
    "c_xception_fine.set(xticklabels=class_names, yticklabels=class_names)\n",
    "c_xception_fine.set_yticklabels(class_names, rotation = 45)\n",
    "c_xception_fine.set_title('Confusion matrix - Xception model (with fine-tuning)')\n",
    "\n",
    "\n",
    "fig.savefig('confusion_matrix.png')"
   ]
  },
  {
   "cell_type": "markdown",
   "id": "3c1d60c6",
   "metadata": {},
   "source": [
    "### Make a report"
   ]
  },
  {
   "cell_type": "markdown",
   "id": "e4a13636",
   "metadata": {},
   "source": [
    "**Xception report**"
   ]
  },
  {
   "cell_type": "code",
   "execution_count": null,
   "id": "90dfa9f5",
   "metadata": {},
   "outputs": [],
   "source": [
    "report = classification_report(y_test_xception, y_pred_classes_xception, target_names=class_names, output_dict=True)\n",
    "df_xception = pd.DataFrame(report).transpose()\n",
    "df_xception"
   ]
  },
  {
   "cell_type": "code",
   "execution_count": null,
   "id": "36358936",
   "metadata": {},
   "outputs": [],
   "source": [
    "df_xception.to_csv('report_xception.csv')"
   ]
  },
  {
   "cell_type": "markdown",
   "id": "09511e69",
   "metadata": {},
   "source": [
    "**Xception fine-tuning**"
   ]
  },
  {
   "cell_type": "code",
   "execution_count": null,
   "id": "525695d3",
   "metadata": {},
   "outputs": [],
   "source": [
    "report = classification_report(y_test_xception_fine, y_pred_classes_xception_fine, target_names=class_names, output_dict=True)\n",
    "df_xception_fine = pd.DataFrame(report).transpose()\n",
    "df_xception_fine"
   ]
  },
  {
   "cell_type": "code",
   "execution_count": null,
   "id": "035b8dfb",
   "metadata": {},
   "outputs": [],
   "source": [
    "df_xception_fine.to_csv('report_xception_fine.csv')"
   ]
  },
  {
   "cell_type": "markdown",
   "id": "9bb2f9b3",
   "metadata": {},
   "source": [
    "**CNN model**"
   ]
  },
  {
   "cell_type": "code",
   "execution_count": null,
   "id": "d94f951f",
   "metadata": {},
   "outputs": [],
   "source": [
    "report = classification_report(y_test_cnn, y_pred_classes_cnn, target_names=class_names, output_dict=True)\n",
    "df_cnn = pd.DataFrame(report).transpose()\n",
    "df_cnn"
   ]
  },
  {
   "cell_type": "code",
   "execution_count": null,
   "id": "f0efc562",
   "metadata": {},
   "outputs": [],
   "source": [
    "df_cnn.to_csv('report_cnn.csv')"
   ]
  },
  {
   "cell_type": "markdown",
   "id": "0a22446c",
   "metadata": {},
   "source": [
    "### Comparatie ROC-AUC Curve for each class"
   ]
  },
  {
   "cell_type": "code",
   "execution_count": null,
   "id": "74c682b2",
   "metadata": {},
   "outputs": [],
   "source": [
    "def plot_ax(y_pred_xception, y_test_xception, y_pred_xception_fine, y_test_xception_fine, y_pred_cnn, y_test_cnn, ax, i, label):\n",
    "\n",
    "    fpr_xception, tpr_xception, thresh_xception = roc_curve(y_test_xception, y_pred_xception[:,i], pos_label=i)\n",
    "    fpr_xception_fine, tpr_xception_fine, thresh_xception_fine = roc_curve(y_test_xception_fine, y_pred_xception_fine[:,i], pos_label=i)\n",
    "    fpr_cnn, tpr_cnn, thresh_cnn = roc_curve(y_test_cnn, y_pred_cnn[:,i], pos_label=i)\n",
    "    \n",
    "    ax.plot(fpr_xception_fine, tpr_xception_fine, color='blue', label='Xception model (fine-tuning)')\n",
    "    ax.plot(fpr_xception, tpr_xception, linestyle='--',color='orange', label='Xception model')\n",
    "    ax.plot(fpr_cnn, tpr_cnn,color='green', label='CNN model')\n",
    "    ax.set_title(label)\n",
    "    ax.legend(loc='best')\n",
    "    \n"
   ]
  },
  {
   "cell_type": "code",
   "execution_count": null,
   "id": "b9c070c4",
   "metadata": {},
   "outputs": [],
   "source": [
    "fig, axs = plt.subplots(5, 2, figsize=(15, 15), sharex=True, sharey=True)\n",
    "\n",
    "i = 0\n",
    "for label in class_names:  \n",
    "    \n",
    "    plot_ax(y_pred_xception, y_test_xception, y_pred_xception_fine, y_test_xception_fine, y_pred_cnn, y_test_cnn, axs[int(i/2), i%2], i, label)\n",
    "    i += 1\n",
    "\n",
    "fig.suptitle('AUC- ROC Curve One vs All')\n",
    "\n",
    "# Set common labels\n",
    "fig.add_subplot(111, frameon=False)\n",
    "plt.tick_params(labelcolor='none', which='both', top=False, bottom=False, left=False, right=False)\n",
    "plt.xlabel('False Positive Rate')\n",
    "plt.ylabel('True Positive rate')\n",
    "\n",
    "\n",
    "plt.tight_layout()\n",
    "plt.show()"
   ]
  },
  {
   "cell_type": "markdown",
   "id": "61dabefb",
   "metadata": {},
   "source": [
    "**ROC curve over hard-predicted set**"
   ]
  },
  {
   "cell_type": "code",
   "execution_count": null,
   "id": "c937c95c",
   "metadata": {},
   "outputs": [],
   "source": [
    "fig, axs = plt.subplots(2, 2, figsize=(15, 10), sharex=True, sharey=True)\n",
    "\n",
    "i = 0\n",
    "for label in class_names[3:7]:  \n",
    "    \n",
    "    plot_ax(y_pred_xception, y_test_xception, y_pred_xception_fine, y_test_xception_fine, y_pred_cnn, y_test_cnn, axs[int(i/2), i%2], i, label)\n",
    "    i += 1\n",
    "\n",
    "fig.suptitle('AUC- ROC Curve One vs All')\n",
    "\n",
    "# Set common labels\n",
    "fig.add_subplot(111, frameon=False)\n",
    "plt.tick_params(labelcolor='none', which='both', top=False, bottom=False, left=False, right=False)\n",
    "plt.xlabel('False Positive Rate')\n",
    "plt.ylabel('True Positive rate')\n",
    "\n",
    "\n",
    "plt.tight_layout()\n",
    "fig.savefig('auc_roc_curve.png')\n",
    "plt.show()"
   ]
  },
  {
   "cell_type": "markdown",
   "id": "029ef892",
   "metadata": {},
   "source": [
    "## Cohen Kappa score"
   ]
  },
  {
   "cell_type": "markdown",
   "id": "27bb0bdc",
   "metadata": {},
   "source": [
    "**CNN**"
   ]
  },
  {
   "cell_type": "code",
   "execution_count": null,
   "id": "58818af3",
   "metadata": {},
   "outputs": [],
   "source": [
    "from sklearn.metrics import cohen_kappa_score\n",
    "\n",
    "cohen_kappa_score(y_test_cnn, y_pred_classes_cnn)"
   ]
  },
  {
   "cell_type": "markdown",
   "id": "95678da2",
   "metadata": {},
   "source": [
    "**Xception (without fine-tuning)**"
   ]
  },
  {
   "cell_type": "code",
   "execution_count": null,
   "id": "b1bea0b9",
   "metadata": {},
   "outputs": [],
   "source": [
    "cohen_kappa_score(y_test_xception, y_pred_classes_xception)"
   ]
  },
  {
   "cell_type": "markdown",
   "id": "bde052ba",
   "metadata": {},
   "source": [
    "**Xception (with fine-tuning)**"
   ]
  },
  {
   "cell_type": "code",
   "execution_count": null,
   "id": "a587858b",
   "metadata": {},
   "outputs": [],
   "source": [
    "cohen_kappa_score(y_test_xception_fine, y_pred_classes_xception_fine)"
   ]
  }
 ],
 "metadata": {
  "kernelspec": {
   "display_name": "Python 3",
   "language": "python",
   "name": "python3"
  },
  "language_info": {
   "codemirror_mode": {
    "name": "ipython",
    "version": 3
   },
   "file_extension": ".py",
   "mimetype": "text/x-python",
   "name": "python",
   "nbconvert_exporter": "python",
   "pygments_lexer": "ipython3",
   "version": "3.9.2"
  }
 },
 "nbformat": 4,
 "nbformat_minor": 5
}
