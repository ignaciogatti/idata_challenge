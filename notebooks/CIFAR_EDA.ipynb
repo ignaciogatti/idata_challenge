{
 "cells": [
  {
   "cell_type": "markdown",
   "id": "4628c409",
   "metadata": {},
   "source": [
    "# CIFAR EDA"
   ]
  },
  {
   "cell_type": "code",
   "execution_count": null,
   "id": "9ebbed54",
   "metadata": {},
   "outputs": [],
   "source": [
    "import tensorflow as tf\n",
    "import tensorflow_datasets as tfds\n",
    "\n",
    "import numpy as np\n",
    "from sklearn.metrics import classification_report\n",
    "from sklearn.metrics import roc_auc_score, roc_curve\n",
    "\n",
    "import matplotlib.pyplot as plt\n",
    "import seaborn as sns\n",
    "\n",
    "import pandas as pd"
   ]
  },
  {
   "cell_type": "markdown",
   "id": "0bc07db2",
   "metadata": {},
   "source": [
    "## Load dataset"
   ]
  },
  {
   "cell_type": "code",
   "execution_count": null,
   "id": "a3d67aea",
   "metadata": {},
   "outputs": [],
   "source": [
    "builder, ds_info = tfds.load('cifar10',\n",
    "                             as_supervised=False, \n",
    "                             with_info=True)"
   ]
  },
  {
   "cell_type": "code",
   "execution_count": null,
   "id": "e01c79ef",
   "metadata": {},
   "outputs": [],
   "source": [
    "builder['train']"
   ]
  },
  {
   "cell_type": "markdown",
   "id": "a4fd6682",
   "metadata": {},
   "source": [
    "**Dump into Dataframe**"
   ]
  },
  {
   "cell_type": "code",
   "execution_count": null,
   "id": "d9a75121",
   "metadata": {},
   "outputs": [],
   "source": [
    "df_train = tfds.as_dataframe(builder['train'], ds_info)\n",
    "df_train.head()"
   ]
  },
  {
   "cell_type": "markdown",
   "id": "c80dbff8",
   "metadata": {},
   "source": [
    "### Distribution for labels"
   ]
  },
  {
   "cell_type": "code",
   "execution_count": null,
   "id": "b69dabc7",
   "metadata": {},
   "outputs": [],
   "source": [
    "plt.figure(figsize=(8, 8))\n",
    "sns.catplot(x=\"label\", kind=\"count\", data=df_train)"
   ]
  }
 ],
 "metadata": {
  "kernelspec": {
   "display_name": "Python 3",
   "language": "python",
   "name": "python3"
  },
  "language_info": {
   "codemirror_mode": {
    "name": "ipython",
    "version": 3
   },
   "file_extension": ".py",
   "mimetype": "text/x-python",
   "name": "python",
   "nbconvert_exporter": "python",
   "pygments_lexer": "ipython3",
   "version": "3.9.2"
  }
 },
 "nbformat": 4,
 "nbformat_minor": 5
}
