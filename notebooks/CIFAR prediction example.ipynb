{
 "cells": [
  {
   "cell_type": "markdown",
   "id": "100904a4",
   "metadata": {},
   "source": [
    "## CIFAR prediction example"
   ]
  },
  {
   "cell_type": "code",
   "execution_count": null,
   "id": "5a345dd7",
   "metadata": {},
   "outputs": [],
   "source": [
    "import matplotlib.pyplot as plt\n",
    "\n",
    "import tensorflow as tf\n",
    "\n",
    "from skimage.util import img_as_float\n",
    "\n",
    "from IPython.display import clear_output\n",
    "import matplotlib.pyplot as plt\n",
    "\n",
    "import numpy as np\n",
    "from PIL import Image\n",
    "from PIL import ImageColor\n",
    "from PIL import ImageDraw\n",
    "from PIL import ImageFont\n",
    "from PIL import ImageOps\n",
    "\n",
    "import wget"
   ]
  },
  {
   "cell_type": "code",
   "execution_count": null,
   "id": "694e6f9f",
   "metadata": {},
   "outputs": [],
   "source": [
    "def display_image(image):\n",
    "    fig = plt.figure(figsize=(10, 10))\n",
    "    plt.grid(False)\n",
    "    plt.imshow(image)"
   ]
  },
  {
   "cell_type": "markdown",
   "id": "bc82d60c",
   "metadata": {},
   "source": [
    "## Load image"
   ]
  },
  {
   "cell_type": "code",
   "execution_count": null,
   "id": "48cf5588",
   "metadata": {},
   "outputs": [],
   "source": [
    "!wget -O 'data_test_0.jpg' 'https://scx1.b-cdn.net/csz/news/800/2018/2-dog.jpg' \n",
    "!wget -O 'data_test_1.jpg' 'https://static.toiimg.com/thumb/msid-67586673,width-800,height-600,resizemode-75,imgsize-3918697,pt-32,y_pad-40/67586673.jpg'\n",
    "!wget -O 'data_test_2.jpg' 'https://upload.wikimedia.org/wikipedia/commons/thumb/0/0c/Green_tree_frog.jpg/799px-Green_tree_frog.jpg'\n",
    "!wget -O 'data_test_3.jpg' 'https://bsmedia.business-standard.com/_media/bs/img/article/2019-10/15/full/1571086349-8577.jpg'\n",
    "!wget -O 'data_test_4.jpg' 'https://www.om.org/img/h55955_42-62.jpg'"
   ]
  },
  {
   "cell_type": "code",
   "execution_count": null,
   "id": "1902949b",
   "metadata": {},
   "outputs": [],
   "source": [
    "pet_image_path = 'data_test_0.jpg'"
   ]
  },
  {
   "cell_type": "code",
   "execution_count": null,
   "id": "c35c9889",
   "metadata": {},
   "outputs": [],
   "source": [
    "pil_image = Image.open(pet_image_path).convert(\"RGB\")\n",
    "display_image(pil_image)"
   ]
  },
  {
   "cell_type": "code",
   "execution_count": null,
   "id": "aec0b271",
   "metadata": {},
   "outputs": [],
   "source": [
    "pix_image = np.asarray(pil_image)\n",
    "#pix_image = img_as_float(pix_image)\n",
    "pix_image.shape"
   ]
  },
  {
   "cell_type": "markdown",
   "id": "114feb29",
   "metadata": {},
   "source": [
    "## Load model"
   ]
  },
  {
   "cell_type": "code",
   "execution_count": null,
   "id": "c24f2125",
   "metadata": {},
   "outputs": [],
   "source": [
    "from models import CIFAR_Detectition_Pre_trained_Model, CIFAR_Detectition_CNN_Model"
   ]
  },
  {
   "cell_type": "code",
   "execution_count": null,
   "id": "e6ac6298",
   "metadata": {},
   "outputs": [],
   "source": [
    "cifar_detection_model = CIFAR_Detectition_Pre_trained_Model('models/cifar_cnn_augmentation/', (32,32))"
   ]
  },
  {
   "cell_type": "code",
   "execution_count": null,
   "id": "ddace5e1",
   "metadata": {},
   "outputs": [],
   "source": [
    "cifar_detection_model.predict(pix_image).argmax()"
   ]
  }
 ],
 "metadata": {
  "kernelspec": {
   "display_name": "Python 3",
   "language": "python",
   "name": "python3"
  },
  "language_info": {
   "codemirror_mode": {
    "name": "ipython",
    "version": 3
   },
   "file_extension": ".py",
   "mimetype": "text/x-python",
   "name": "python",
   "nbconvert_exporter": "python",
   "pygments_lexer": "ipython3",
   "version": "3.9.2"
  }
 },
 "nbformat": 4,
 "nbformat_minor": 5
}
