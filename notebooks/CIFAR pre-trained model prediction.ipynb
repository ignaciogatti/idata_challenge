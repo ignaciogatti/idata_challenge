{
 "cells": [
  {
   "cell_type": "markdown",
   "id": "d4e268de",
   "metadata": {},
   "source": [
    "# CIFAR pre-trained model prediction"
   ]
  },
  {
   "cell_type": "code",
   "execution_count": null,
   "id": "817a1618",
   "metadata": {},
   "outputs": [],
   "source": [
    "import tensorflow as tf\n",
    "import tensorflow_datasets as tfds\n",
    "\n",
    "from tensorflow.keras.layers import Flatten, Dense, Dropout, Convolution2D, Activation, GlobalAveragePooling2D, Rescaling\n",
    "\n",
    "from tensorflow.keras.preprocessing.image import ImageDataGenerator\n",
    "\n",
    "from tensorflow.keras.models import Sequential, Model,load_model\n",
    "from tensorflow.keras.layers.experimental import preprocessing\n",
    "\n",
    "from tensorflow.keras import datasets, layers, models\n",
    "import matplotlib.pyplot as plt\n",
    "\n",
    "\n",
    "import numpy as np"
   ]
  },
  {
   "cell_type": "markdown",
   "id": "edd752fc",
   "metadata": {},
   "source": [
    "### Download CIFAR dataset"
   ]
  },
  {
   "cell_type": "code",
   "execution_count": null,
   "id": "84231233",
   "metadata": {},
   "outputs": [],
   "source": [
    "builder, ds_info = tfds.load('cifar10',\n",
    "                             split=[\"train\", \"test[:40%]\", \"test[40%:]\"],\n",
    "                             as_supervised=True, \n",
    "                             with_info=True)"
   ]
  },
  {
   "cell_type": "code",
   "execution_count": null,
   "id": "a60a55dd",
   "metadata": {},
   "outputs": [],
   "source": [
    "ds_info.features"
   ]
  },
  {
   "cell_type": "code",
   "execution_count": null,
   "id": "16503433",
   "metadata": {},
   "outputs": [],
   "source": [
    "ds_train = builder[0]\n",
    "ds_validation = builder[1]\n",
    "ds_test = builder[2]\n",
    "\n",
    "print('train size: ' + str(len(ds_train)))\n",
    "print('validation size: ' + str(len(ds_validation)))\n",
    "print('test size: ' + str(len(ds_test)))"
   ]
  },
  {
   "cell_type": "code",
   "execution_count": null,
   "id": "54285be1",
   "metadata": {},
   "outputs": [],
   "source": [
    "for image, label in ds_train.take(1):\n",
    "    plt.imshow(image)\n",
    "    print(int(label))"
   ]
  },
  {
   "cell_type": "code",
   "execution_count": null,
   "id": "684c83dd",
   "metadata": {},
   "outputs": [],
   "source": [
    "ds_info.features['image'].shape"
   ]
  },
  {
   "cell_type": "code",
   "execution_count": null,
   "id": "fe704379",
   "metadata": {},
   "outputs": [],
   "source": [
    "input_size = 80\n",
    "size = (input_size, input_size)\n",
    "\n",
    "ds_train = ds_train.map(lambda x, y: (tf.image.resize(x, size, method=tf.image.ResizeMethod.AREA), y))\n",
    "ds_validation = ds_validation.map(lambda x, y: (tf.image.resize(x, size, method=tf.image.ResizeMethod.AREA), y))\n",
    "ds_test = ds_test.map(lambda x, y: (tf.image.resize(x, size, method=tf.image.ResizeMethod.AREA), y))"
   ]
  },
  {
   "cell_type": "markdown",
   "id": "81ade9b9",
   "metadata": {},
   "source": [
    "### Verify data"
   ]
  },
  {
   "cell_type": "code",
   "execution_count": null,
   "id": "20fec954",
   "metadata": {},
   "outputs": [],
   "source": [
    "class_names = ['airplane', 'automobile', 'bird', 'cat', 'deer',\n",
    "               'dog', 'frog', 'horse', 'ship', 'truck']"
   ]
  },
  {
   "cell_type": "code",
   "execution_count": null,
   "id": "017e4a3a",
   "metadata": {},
   "outputs": [],
   "source": [
    "plt.figure(figsize=(10,10))\n",
    "i = 0\n",
    "for image, label in ds_train.take(25):\n",
    "    plt.subplot(5,5,i+1)\n",
    "    plt.xticks([])\n",
    "    plt.yticks([])\n",
    "    plt.grid(False)\n",
    "    plt.imshow(image.numpy().astype('uint8'))\n",
    "    # The CIFAR labels happen to be arrays, \n",
    "    # which is why you need the extra index\n",
    "    plt.xlabel(class_names[label])\n",
    "    i = i+1\n",
    "plt.show()"
   ]
  },
  {
   "cell_type": "markdown",
   "id": "ad932888",
   "metadata": {},
   "source": [
    "## Define model"
   ]
  },
  {
   "cell_type": "code",
   "execution_count": null,
   "id": "ead46e84",
   "metadata": {},
   "outputs": [],
   "source": [
    "NUM_CLASSES = ds_info.features['label'].num_classes\n",
    "BATCH_SIZE = 64"
   ]
  },
  {
   "cell_type": "markdown",
   "id": "01b38176",
   "metadata": {},
   "source": [
    "**Load pre-trained model**"
   ]
  },
  {
   "cell_type": "code",
   "execution_count": null,
   "id": "668d2410",
   "metadata": {},
   "outputs": [],
   "source": [
    "base_model = tf.keras.applications.xception.Xception(weights='imagenet', input_shape=(input_size, input_size, 3), classes = NUM_CLASSES, include_top=False)\n",
    "#base_model = tf.keras.applications.inception_resnet_v2.InceptionResNetV2(weights='imagenet', input_shape=(input_size, input_size, 3), classes = NUM_CLASSES, include_top=False)\n",
    "#base_model = tf.keras.applications.mobilenet_v2.MobileNetV2(weights='imagenet', input_shape=(input_size, input_size, 3), include_top = False, classes = NUM_CLASSES)\n",
    "#base_model = tf.keras.applications.resnet_v2.ResNet50V2(weights='imagenet', input_shape=(input_size, input_size, 3), include_top = False, classes = NUM_CLASSES)"
   ]
  },
  {
   "cell_type": "code",
   "execution_count": null,
   "id": "d9247f26",
   "metadata": {},
   "outputs": [],
   "source": [
    "base_model.trainable = False\n",
    "base_model.summary()"
   ]
  },
  {
   "cell_type": "markdown",
   "id": "a7adf772",
   "metadata": {},
   "source": [
    "**Define model**"
   ]
  },
  {
   "cell_type": "code",
   "execution_count": null,
   "id": "aab2bfad",
   "metadata": {},
   "outputs": [],
   "source": [
    "data_augmentation = Sequential(\n",
    "  [\n",
    "    preprocessing.RandomFlip(\"horizontal\"),\n",
    "    preprocessing.RandomRotation(0.1),\n",
    "    preprocessing.RandomZoom(0.1),\n",
    "  ]\n",
    ")"
   ]
  },
  {
   "cell_type": "code",
   "execution_count": null,
   "id": "e42bbe0a",
   "metadata": {},
   "outputs": [],
   "source": [
    "inputs = tf.keras.Input(shape=(input_size, input_size, 3))\n",
    "\n",
    "#x = data_augmentation(inputs)\n",
    "\n",
    "\n",
    "x = tf.keras.applications.xception.preprocess_input(inputs)\n",
    "#x = tf.keras.applications.inception_resnet_v2.preprocess_input(inputs)\n",
    "#x = tf.keras.applications.mobilenet_v2.preprocess_input(inputs)\n",
    "#x = tf.keras.applications.resnet_v2.preprocess_input(inputs)\n",
    "\n",
    "\n",
    "# We make sure that the base_model is running in inference mode here,\n",
    "# by passing `training=False`. This is important for fine-tuning, as you will\n",
    "# learn in a few paragraphs.\n",
    "x = base_model(x, training=False)\n",
    "#x = base_model(inputs, training=False)\n",
    "\n",
    "\n",
    "x = GlobalAveragePooling2D()(x)\n",
    "\n",
    "\n",
    "x = Dropout(0.3)(x)\n",
    "outputs = Dense(NUM_CLASSES, activation='softmax')(x)\n",
    "\n",
    "model = tf.keras.Model(inputs, outputs)\n",
    "model.summary()"
   ]
  },
  {
   "cell_type": "markdown",
   "id": "c49a085f",
   "metadata": {},
   "source": [
    "### Train model"
   ]
  },
  {
   "cell_type": "code",
   "execution_count": null,
   "id": "9f9535e7",
   "metadata": {},
   "outputs": [],
   "source": [
    "model.compile(optimizer=tf.keras.optimizers.Adam(learning_rate=0.001),\n",
    "              loss='sparse_categorical_crossentropy',\n",
    "              metrics=['accuracy'])"
   ]
  },
  {
   "cell_type": "code",
   "execution_count": null,
   "id": "365fa52b",
   "metadata": {},
   "outputs": [],
   "source": [
    "AUTOTUNE = tf.data.AUTOTUNE\n",
    "\n",
    "ds_train = ds_train.cache().batch(BATCH_SIZE).prefetch(buffer_size=AUTOTUNE)\n",
    "ds_validation = ds_validation.cache().batch(BATCH_SIZE).prefetch(buffer_size=AUTOTUNE)\n",
    "ds_test = ds_test.cache().batch(BATCH_SIZE).prefetch(buffer_size=AUTOTUNE)"
   ]
  },
  {
   "cell_type": "code",
   "execution_count": null,
   "id": "0b3be672",
   "metadata": {},
   "outputs": [],
   "source": [
    "def lr_schedule(epoch):\n",
    "    lr = 1e-3\n",
    "    if (epoch > 10):\n",
    "        lr *= 0.01\n",
    "    elif (epoch > 3):\n",
    "        lr *= 0.1\n",
    "    return lr\n",
    "\n",
    "#lr_callback = tensorflow.keras.callbacks.LearningRateScheduler(lr_schedule)\n",
    "\n",
    "lr_callback = tf.keras.callbacks.ReduceLROnPlateau(monitor='val_loss', patience=2, factor=0.1, min_delta=0.001)"
   ]
  },
  {
   "cell_type": "code",
   "execution_count": null,
   "id": "1fb5410b",
   "metadata": {},
   "outputs": [],
   "source": [
    "epochs = 20\n",
    "history = model.fit(ds_train, epochs=epochs, validation_data=ds_validation, callbacks=[lr_callback])"
   ]
  },
  {
   "cell_type": "markdown",
   "id": "f3a5fff2",
   "metadata": {},
   "source": [
    "### Plot training"
   ]
  },
  {
   "cell_type": "code",
   "execution_count": null,
   "id": "1e7d2bf5",
   "metadata": {},
   "outputs": [],
   "source": [
    "# summarize history for accuracy\n",
    "plt.plot(history.history['accuracy'])\n",
    "plt.plot(history.history['val_accuracy'])\n",
    "plt.title('model accuracy')\n",
    "plt.ylabel('accuracy')\n",
    "plt.xlabel('epoch')\n",
    "plt.legend(['train', 'test'], loc='upper left')\n",
    "plt.show()"
   ]
  },
  {
   "cell_type": "code",
   "execution_count": null,
   "id": "ebf22316",
   "metadata": {},
   "outputs": [],
   "source": [
    "plt.plot(history.history['loss'])\n",
    "plt.plot(history.history['val_loss'])\n",
    "plt.title('model loss')\n",
    "plt.ylabel('loss')\n",
    "plt.xlabel('epoch')\n",
    "plt.legend(['train', 'test'], loc='upper left')\n",
    "plt.show()"
   ]
  },
  {
   "cell_type": "markdown",
   "id": "349374bc",
   "metadata": {},
   "source": [
    "## Evaluate model"
   ]
  },
  {
   "cell_type": "code",
   "execution_count": null,
   "id": "5f6accc1",
   "metadata": {},
   "outputs": [],
   "source": [
    " model.evaluate(ds_test)"
   ]
  },
  {
   "cell_type": "code",
   "execution_count": null,
   "id": "e1048082",
   "metadata": {},
   "outputs": [],
   "source": [
    "y_pred = model.predict(ds_test)\n",
    "y_test = np.concatenate([y for x, y in ds_test], axis=0)\n",
    "y_pred_classes = np.argmax(y_pred,axis = 1)\n",
    "confusion_mtx = tf.math.confusion_matrix(y_test, y_pred_classes)"
   ]
  },
  {
   "cell_type": "code",
   "execution_count": null,
   "id": "c605fee2",
   "metadata": {},
   "outputs": [],
   "source": [
    "import seaborn as sns\n",
    "\n",
    "plt.figure(figsize=(12, 9))\n",
    "c = sns.heatmap(confusion_mtx, annot=True, fmt='g')\n",
    "c.set(xticklabels=class_names, yticklabels=class_names)"
   ]
  },
  {
   "cell_type": "markdown",
   "id": "05930600",
   "metadata": {},
   "source": [
    "### Save model"
   ]
  },
  {
   "cell_type": "code",
   "execution_count": null,
   "id": "6e1d2675",
   "metadata": {},
   "outputs": [],
   "source": [
    "model.save(\"models/cifar_xception\")"
   ]
  }
 ],
 "metadata": {
  "kernelspec": {
   "display_name": "Python 3",
   "language": "python",
   "name": "python3"
  },
  "language_info": {
   "codemirror_mode": {
    "name": "ipython",
    "version": 3
   },
   "file_extension": ".py",
   "mimetype": "text/x-python",
   "name": "python",
   "nbconvert_exporter": "python",
   "pygments_lexer": "ipython3",
   "version": "3.9.2"
  }
 },
 "nbformat": 4,
 "nbformat_minor": 5
}
